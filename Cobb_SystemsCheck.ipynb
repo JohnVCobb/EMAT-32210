{
 "cells": [
  {
   "cell_type": "markdown",
   "id": "8c7c8924",
   "metadata": {},
   "source": [
    "# 1 this is heading #1\n",
    "## this is heading number two\n",
    "### heading three\n",
    "#### Heading four"
   ]
  },
  {
   "cell_type": "markdown",
   "id": "dfd23318",
   "metadata": {},
   "source": [
    "1. line number one \n",
    "2. line number two\n",
    "3. line number three"
   ]
  },
  {
   "cell_type": "markdown",
   "id": "ca3e8a4c",
   "metadata": {},
   "source": [
    "![Gnome](https://upload.wikimedia.org/wikipedia/commons/thumb/b/b3/CarlSpitzwegGnomEisenbahnbetrachtend.jpg/340px-CarlSpitzwegGnomEisenbahnbetrachtend.jpg)\n"
   ]
  },
  {
   "cell_type": "markdown",
   "id": "3826de8d",
   "metadata": {},
   "source": [
    "__This is a gnome.__\n",
    "_I would be friends with a gnome_"
   ]
  },
  {
   "cell_type": "code",
   "execution_count": null,
   "id": "f1efff9e",
   "metadata": {},
   "outputs": [],
   "source": []
  }
 ],
 "metadata": {
  "kernelspec": {
   "display_name": "Python 3 (ipykernel)",
   "language": "python",
   "name": "python3"
  },
  "language_info": {
   "codemirror_mode": {
    "name": "ipython",
    "version": 3
   },
   "file_extension": ".py",
   "mimetype": "text/x-python",
   "name": "python",
   "nbconvert_exporter": "python",
   "pygments_lexer": "ipython3",
   "version": "3.11.4"
  }
 },
 "nbformat": 4,
 "nbformat_minor": 5
}
